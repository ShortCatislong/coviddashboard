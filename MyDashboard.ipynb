{
 "cells": [
  {
   "cell_type": "markdown",
   "id": "02eac150-b423-47d7-beda-aed525c85696",
   "metadata": {},
   "source": [
    "## Import the needed Library\n",
    "\n",
    "This dashboard use **Cov19API** to access data from PHE website  \n",
    "use **json** library to convert and store data from PHE  \n",
    "use **pandas** and **matplotlib** library to visualise the data, the data would be saved as new_data.pkl file  \n",
    "use **IPython** to make interactive widgets and refresh function"
   ]
  },
  {
   "cell_type": "code",
   "execution_count": 1,
   "id": "83bdb233-6ac7-4cc4-a83a-68a846324d11",
   "metadata": {},
   "outputs": [],
   "source": [
    "#Libraries\n",
    "from uk_covid19 import Cov19API\n",
    "import json\n",
    "from IPython.display import clear_output\n",
    "import ipywidgets as wdg\n",
    "import pandas as pd\n",
    "import matplotlib.pyplot as plt\n",
    "\n",
    "\n",
    "%matplotlib inline\n",
    "# make figures larger\n",
    "plt.rcParams['figure.dpi'] = 100"
   ]
  },
  {
   "cell_type": "markdown",
   "id": "0b989217-61e3-4bff-ae92-4cb50c5ab68c",
   "metadata": {},
   "source": [
    "## Define the data_access() function\n",
    "I define the data_access() function to access data from PHE website.  \n",
    "While calling this function, it will initialize the api and get data automatically.The data contains date, total number of people who take the 1,2,3 dose of vaccination and the full vaccination rate.\n",
    "All data is saved in new_data.json file.  \n",
    "\n",
    "### data strcture of data.json\n",
    "\n",
    "- mydata[dict]\n",
    "    - data[list]\n",
    "        - entry1[dict]\n",
    "            - date[str]\n",
    "            - dose1[str]\n",
    "            - dose2[str]\n",
    "            - dose3[str]\n",
    "            - FullVacRate[str]\n",
    "        - entry2\n",
    "        - ......\n",
    "    - lastUpdate\n",
    "    - length\n",
    "    - totalPages\n"
   ]
  },
  {
   "cell_type": "code",
   "execution_count": 2,
   "id": "bea39705-f641-4efa-93d9-afe003c4d088",
   "metadata": {},
   "outputs": [],
   "source": [
    "def data_access():\n",
    "    '''access data from PHE with defined api, save as \"new_data.json\" file '''\n",
    "    #define the data structure\n",
    "    filters = [\n",
    "    'areaType=region',\n",
    "    'areaName=London'\n",
    "    ]\n",
    "    #metric name cannot start with number, like 1stdose etc.#\n",
    "    structure = {\n",
    "        'date':'date',\n",
    "        'dose1':'cumPeopleVaccinatedFirstDoseByVaccinationDate',\n",
    "        'dose2':'cumPeopleVaccinatedSecondDoseByVaccinationDate',\n",
    "        'dose3':'cumPeopleVaccinatedThirdInjectionByVaccinationDate',\n",
    "        'FullVacRate':'cumVaccinationCompleteCoverageByVaccinationDatePercentage'\n",
    "    }\n",
    "    api = Cov19API(filters=filters, structure=structure)\n",
    "    \n",
    "    #get data from PHE\n",
    "    vac = api.get_json()\n",
    "    #dump the data from PHE\n",
    "    with open('new_data.json', 'wt') as OUTF:\n",
    "        json.dump(vac, OUTF)"
   ]
  },
  {
   "cell_type": "markdown",
   "id": "661bfac3-be30-4c03-9188-46c86e80f922",
   "metadata": {},
   "source": [
    "## Define the data_wrangling() function\n",
    "This function is used to extract data from .json file created by data_access() function, wangling it into a pandas dataframe, and save as .pkl file\n"
   ]
  },
  {
   "cell_type": "code",
   "execution_count": 3,
   "id": "db55ddfe-1054-4d1a-b6e2-830e138d4f98",
   "metadata": {},
   "outputs": [],
   "source": [
    "def data_wrangling(fname):\n",
    "    '''parse the .json file, wangling data and import them into pandas dataframe,\n",
    "        save as\"new_data.pkl\" file '''\n",
    "    \n",
    "    with open(fname, 'rt') as INFILE:\n",
    "        mydata = json.load(INFILE)\n",
    "    \n",
    "    #extract all the date from fname\n",
    "    date_list = []\n",
    "    for dic in mydata['data']:\n",
    "        date_list.append(dic['date'])\n",
    "    date_list.sort()\n",
    "\n",
    "    #extract the first_day & last_day\n",
    "    #note: the order of key-value pairs in dictionary may be chaos, need to sort first\n",
    "    start_date = pd.to_datetime(date_list[0], format = '%Y-%m-%d')\n",
    "    last_date = pd.to_datetime(date_list[-1], format = '%Y-%m-%d')    \n",
    "    \n",
    "    #create a new data frame with given collumn\n",
    "    index = pd.date_range(start_date, last_date, freq='D')\n",
    "    mydata_df = pd.DataFrame(index=index, columns=['dose1', 'dose2', 'dose3', 'FullVacRate'])\n",
    "#    mydata_df.plot()\n",
    "    \n",
    "    #put values into the dataframe\n",
    "    for entry in mydata['data']:\n",
    "        date = pd.to_datetime(entry['date'], format = '%Y-%m-%d') #use date as index\n",
    "        for col in ['dose1', 'dose2', 'dose3', 'FullVacRate']: \n",
    "            if pd.isna(mydata_df.loc[date, col]): #check the position if it is None, otherwise it's duplicate\n",
    "                if entry[col] == None: #if the value in json is None, replace it with 0.0\n",
    "                    value = 0.0\n",
    "                else:\n",
    "                    value = entry[col] #if not None, use it value\n",
    "                mydata_df.loc[date, col] = value\n",
    "    mydata_df.to_pickle(\"data_df.pkl\")\n",
    "    return mydata_df"
   ]
  },
  {
   "cell_type": "markdown",
   "id": "b20fb80d-629d-4398-ad53-8a1cf6a62ab6",
   "metadata": {},
   "source": [
    "## Define a button\n",
    "While click this button, call functions in sequence:  \n",
    "data_access()  \n",
    "data_wrangling(), note data_wrangling() returns a dataframe, assign it to global variable data_df  \n",
    "refresh() #see definition below  \n",
    "\n",
    "Finally change the attribute of the button.\n"
   ]
  },
  {
   "cell_type": "code",
   "execution_count": 4,
   "id": "b0463bef-2300-499b-92a5-6ce440f06899",
   "metadata": {},
   "outputs": [],
   "source": [
    "def access_api(button):\n",
    "    \n",
    "    #download new data from PHE, save as new_data.json\n",
    "    data_access()\n",
    "\n",
    "    #wrangling the data, return a dataframe, pass the dataframe to global parameter data_df\n",
    "    global data_df\n",
    "    data_df = data_wrangling('new_data.json') \n",
    "    \n",
    "    refresh()#change vaccols.value, trigger to redraw the plot\n",
    "    \n",
    "    apibutton.description = 'Newdata download'\n",
    "    apibutton.icon=\"check\"\n",
    "    apibutton.button_style = 'success'\n",
    "    apibutton.tooltip = 'Successful download data from PHE'\n",
    "    apibutton.disabled = False #disable the button after once click it\n",
    "\n",
    "apibutton=wdg.Button(\n",
    "    description='Download data',\n",
    "    disabled=False,\n",
    "    button_style='danger', \n",
    "    tooltip='Click to download current Public Health England data',\n",
    "    icon='download' \n",
    ")"
   ]
  },
  {
   "cell_type": "markdown",
   "id": "b0fd792e-961e-4e8f-a4b0-93162d302478",
   "metadata": {},
   "source": [
    "## Define vac_graph() and create vaccols instance\n",
    "\n",
    "vac_graph(graphcolumns) plot graph from data_df, use variable graphcolumns as y-axis  \n",
    "vaccols enables interactive functionality, change vaccols.value will automatically redraw the picture"
   ]
  },
  {
   "cell_type": "code",
   "execution_count": 5,
   "id": "2df811ae-d70c-4fe3-b2b1-371a808c07e4",
   "metadata": {},
   "outputs": [],
   "source": [
    "def vac_graph(graphcolumns):\n",
    "    if len(graphcolumns) > 0:\n",
    "        data_df.plot(logy = True, y=list(graphcolumns))\n",
    "        plt.show()\n",
    "    else:\n",
    "        print(\"Click to select data for graph\")\n",
    "        print(\"(CTRL-Click to select more than one category)\")\n",
    "\n",
    "vaccols = wdg.SelectMultiple(\n",
    "    options = ['dose1', 'dose2', 'dose3', 'FullVacRate'], #total options\n",
    "    value = ['dose1', 'dose2', 'dose3', 'FullVacRate'],  #the colums actually plot, set default as all\n",
    "    rows = 4,\n",
    "    descrption = 'Injection Doses',\n",
    "    disabled = False #make wediget reusable\n",
    ")"
   ]
  },
  {
   "cell_type": "markdown",
   "id": "94f917fe-370d-4b4e-bdab-7dda3b6dcd06",
   "metadata": {},
   "source": [
    "## Define refresh() function\n",
    "**!!!!!!!IMPORTANT!!!!!!**  \n",
    "refresh() function refresh the plot by change the value of the interactive widget, which simulate the mouse click action on the widget.   \n",
    "\n",
    "the function record the current vaccols.value, and set it to a empty list.\n",
    "But if current vaccols.value is empty list, set it to vaccols.options\n",
    "\n",
    "by doing this, vaccols value changes and then changes back. And the plot refresh twice."
   ]
  },
  {
   "cell_type": "code",
   "execution_count": 6,
   "id": "c22a9200-9fa9-4de2-ac18-227b305ef6d5",
   "metadata": {},
   "outputs": [],
   "source": [
    "def refresh():\n",
    "    current = vaccols.value\n",
    "    \n",
    "    if current == []:\n",
    "        ohter = vaccols.options\n",
    "    else:\n",
    "        other = []\n",
    "    vaccols.value = other\n",
    "    vaccols.value = current"
   ]
  },
  {
   "cell_type": "markdown",
   "id": "8083f622-ddf9-437f-ba9c-45623e4ff4bd",
   "metadata": {},
   "source": [
    "## Plot the picture with interactive widget and the button\n",
    "\n",
    "In the first run, the dashboard use old_data_df.pkl file to plot picture. \n",
    "  \n",
    "And after click the Data Download below, the button call back data_access(), data_wrangling(), and refresh() functions.  \n",
    "data_access() and data_wrangling() function download new data from PHE, save as new_data.json and new_data_df.pkl  \n",
    "refresh() redraw the plot\n",
    "  \n",
    "**Notice:** the old_data_df.pkl only contains the data between 2021, after click Download Data button, new plot contains data in 2022.\n"
   ]
  },
  {
   "cell_type": "code",
   "execution_count": 7,
   "id": "e4a1c605-acb4-4b75-ad87-9ee1f9747db0",
   "metadata": {},
   "outputs": [
    {
     "data": {
      "application/vnd.jupyter.widget-view+json": {
       "model_id": "7b83928759514e5aab65abe58f526ccb",
       "version_major": 2,
       "version_minor": 0
      },
      "text/plain": [
       "SelectMultiple(index=(0, 1, 2, 3), options=('dose1', 'dose2', 'dose3', 'FullVacRate'), rows=4, value=('dose1',…"
      ]
     },
     "metadata": {},
     "output_type": "display_data"
    },
    {
     "data": {
      "application/vnd.jupyter.widget-view+json": {
       "model_id": "19d04267574445a2805ce8e3340aa4c0",
       "version_major": 2,
       "version_minor": 0
      },
      "text/plain": [
       "Output()"
      ]
     },
     "metadata": {},
     "output_type": "display_data"
    },
    {
     "data": {
      "application/vnd.jupyter.widget-view+json": {
       "model_id": "26c8feac26df4454836ce252bf4692d5",
       "version_major": 2,
       "version_minor": 0
      },
      "text/plain": [
       "Button(button_style='danger', description='Download data', icon='download', style=ButtonStyle(), tooltip='Clic…"
      ]
     },
     "metadata": {},
     "output_type": "display_data"
    }
   ],
   "source": [
    "data_df = data_wrangling('old_data.json') #initialize the data_df with old_data.json\n",
    "output = wdg.interactive_output(vac_graph, {'graphcolumns': vaccols})\n",
    "display(vaccols, output)\n",
    "\n",
    "apibutton.on_click(access_api) #register the callback function with apibutton\n",
    "display(apibutton) #display the widgets"
   ]
  }
 ],
 "metadata": {
  "kernelspec": {
   "display_name": "Python 3 (ipykernel)",
   "language": "python",
   "name": "python3"
  },
  "language_info": {
   "codemirror_mode": {
    "name": "ipython",
    "version": 3
   },
   "file_extension": ".py",
   "mimetype": "text/x-python",
   "name": "python",
   "nbconvert_exporter": "python",
   "pygments_lexer": "ipython3",
   "version": "3.10.6"
  }
 },
 "nbformat": 4,
 "nbformat_minor": 5
}
